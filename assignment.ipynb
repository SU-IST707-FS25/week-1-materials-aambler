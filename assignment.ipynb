{
 "cells": [
  {
   "cell_type": "markdown",
   "id": "dc887371",
   "metadata": {
    "problem_id": "ex1"
   },
   "source": [
    "<!-- @q -->\n",
    "## Problem 1 \n",
    "\n",
    "Using the data in the `2019_Yellow_Taxi_Trip_Data.csv` file, calculate summary statistics for the `fare_amount`, `tip_amount`, `tolls_amount`, and `total_amount` columns:"
   ]
  },
  {
   "cell_type": "code",
   "execution_count": 588,
   "id": "6b54e057",
   "metadata": {
    "part_id": "ex1-part1",
    "span": "ex1-part1.code",
    "student": true
   },
   "outputs": [
    {
     "data": {
      "text/html": [
       "<div>\n",
       "<style scoped>\n",
       "    .dataframe tbody tr th:only-of-type {\n",
       "        vertical-align: middle;\n",
       "    }\n",
       "\n",
       "    .dataframe tbody tr th {\n",
       "        vertical-align: top;\n",
       "    }\n",
       "\n",
       "    .dataframe thead th {\n",
       "        text-align: right;\n",
       "    }\n",
       "</style>\n",
       "<table border=\"1\" class=\"dataframe\">\n",
       "  <thead>\n",
       "    <tr style=\"text-align: right;\">\n",
       "      <th></th>\n",
       "      <th>fare_amount</th>\n",
       "      <th>tip_amount</th>\n",
       "      <th>tolls_amount</th>\n",
       "      <th>total_amount</th>\n",
       "    </tr>\n",
       "  </thead>\n",
       "  <tbody>\n",
       "    <tr>\n",
       "      <th>count</th>\n",
       "      <td>10000.000000</td>\n",
       "      <td>10000.000000</td>\n",
       "      <td>10000.000000</td>\n",
       "      <td>10000.000000</td>\n",
       "    </tr>\n",
       "    <tr>\n",
       "      <th>mean</th>\n",
       "      <td>15.106313</td>\n",
       "      <td>2.634494</td>\n",
       "      <td>0.623447</td>\n",
       "      <td>22.564659</td>\n",
       "    </tr>\n",
       "    <tr>\n",
       "      <th>std</th>\n",
       "      <td>13.954762</td>\n",
       "      <td>3.409800</td>\n",
       "      <td>6.437507</td>\n",
       "      <td>19.209255</td>\n",
       "    </tr>\n",
       "    <tr>\n",
       "      <th>min</th>\n",
       "      <td>-52.000000</td>\n",
       "      <td>0.000000</td>\n",
       "      <td>-6.120000</td>\n",
       "      <td>-65.920000</td>\n",
       "    </tr>\n",
       "    <tr>\n",
       "      <th>25%</th>\n",
       "      <td>7.000000</td>\n",
       "      <td>0.000000</td>\n",
       "      <td>0.000000</td>\n",
       "      <td>12.375000</td>\n",
       "    </tr>\n",
       "    <tr>\n",
       "      <th>50%</th>\n",
       "      <td>10.000000</td>\n",
       "      <td>2.000000</td>\n",
       "      <td>0.000000</td>\n",
       "      <td>16.300000</td>\n",
       "    </tr>\n",
       "    <tr>\n",
       "      <th>75%</th>\n",
       "      <td>16.000000</td>\n",
       "      <td>3.250000</td>\n",
       "      <td>0.000000</td>\n",
       "      <td>22.880000</td>\n",
       "    </tr>\n",
       "    <tr>\n",
       "      <th>max</th>\n",
       "      <td>176.000000</td>\n",
       "      <td>43.000000</td>\n",
       "      <td>612.000000</td>\n",
       "      <td>671.800000</td>\n",
       "    </tr>\n",
       "  </tbody>\n",
       "</table>\n",
       "</div>"
      ],
      "text/plain": [
       "        fare_amount    tip_amount  tolls_amount  total_amount\n",
       "count  10000.000000  10000.000000  10000.000000  10000.000000\n",
       "mean      15.106313      2.634494      0.623447     22.564659\n",
       "std       13.954762      3.409800      6.437507     19.209255\n",
       "min      -52.000000      0.000000     -6.120000    -65.920000\n",
       "25%        7.000000      0.000000      0.000000     12.375000\n",
       "50%       10.000000      2.000000      0.000000     16.300000\n",
       "75%       16.000000      3.250000      0.000000     22.880000\n",
       "max      176.000000     43.000000    612.000000    671.800000"
      ]
     },
     "execution_count": 588,
     "metadata": {},
     "output_type": "execute_result"
    }
   ],
   "source": [
    "# Your code here\n",
    "import pandas as pd\n",
    "\n",
    "taxi_data = pd.read_csv(\"data/2019_Yellow_Taxi_Trip_Data.csv\")\n",
    "taxi_data[[\"fare_amount\", \"tip_amount\", \"tolls_amount\", \"total_amount\"]].describe()"
   ]
  },
  {
   "cell_type": "markdown",
   "id": "074b0a7e",
   "metadata": {
    "problem_id": "ex2"
   },
   "source": [
    "<!-- @q -->\n",
    "## Problem 2\n",
    "\n",
    "Isolate the `fare_amount`, `tip_amount`, `tolls_amount`, and `total_amount` for the longest trip by distance (`trip_distance`):"
   ]
  },
  {
   "cell_type": "code",
   "execution_count": 589,
   "id": "fe9dd73b",
   "metadata": {
    "part_id": "ex2-part1",
    "span": "ex2-part1.code",
    "student": true
   },
   "outputs": [
    {
     "data": {
      "text/plain": [
       "fare_amount      176.0\n",
       "tip_amount       18.29\n",
       "tolls_amount      6.12\n",
       "total_amount    201.21\n",
       "Name: 8338, dtype: object"
      ]
     },
     "execution_count": 589,
     "metadata": {},
     "output_type": "execute_result"
    }
   ],
   "source": [
    "# Your code here\n",
    "max_distance_index = taxi_data[\"trip_distance\"].idxmax()\n",
    "taxi_data.loc[max_distance_index][[\"fare_amount\", \"tip_amount\", \"tolls_amount\", \"total_amount\"]]"
   ]
  },
  {
   "cell_type": "markdown",
   "id": "2f864b6c",
   "metadata": {
    "problem_id": "ex3"
   },
   "source": [
    "<!-- @q -->\n",
    "## Problem 3 \n",
    "\n",
    "Read in the meteorite data from the `Meteorite_Landings.csv` file, rename the `mass (g)` column to `mass`, and drop all the latitude and longitude columns. Sort the result by mass in descending order."
   ]
  },
  {
   "cell_type": "code",
   "execution_count": 590,
   "id": "88c65a35",
   "metadata": {
    "part_id": "ex3-part1",
    "span": "ex3-part1.code",
    "student": true
   },
   "outputs": [
    {
     "data": {
      "text/html": [
       "<div>\n",
       "<style scoped>\n",
       "    .dataframe tbody tr th:only-of-type {\n",
       "        vertical-align: middle;\n",
       "    }\n",
       "\n",
       "    .dataframe tbody tr th {\n",
       "        vertical-align: top;\n",
       "    }\n",
       "\n",
       "    .dataframe thead th {\n",
       "        text-align: right;\n",
       "    }\n",
       "</style>\n",
       "<table border=\"1\" class=\"dataframe\">\n",
       "  <thead>\n",
       "    <tr style=\"text-align: right;\">\n",
       "      <th></th>\n",
       "      <th>name</th>\n",
       "      <th>id</th>\n",
       "      <th>nametype</th>\n",
       "      <th>recclass</th>\n",
       "      <th>mass</th>\n",
       "      <th>fall</th>\n",
       "      <th>year</th>\n",
       "    </tr>\n",
       "  </thead>\n",
       "  <tbody>\n",
       "    <tr>\n",
       "      <th>16392</th>\n",
       "      <td>Hoba</td>\n",
       "      <td>11890</td>\n",
       "      <td>Valid</td>\n",
       "      <td>Iron, IVB</td>\n",
       "      <td>60000000.0</td>\n",
       "      <td>Found</td>\n",
       "      <td>01/01/1920 12:00:00 AM</td>\n",
       "    </tr>\n",
       "    <tr>\n",
       "      <th>5373</th>\n",
       "      <td>Cape York</td>\n",
       "      <td>5262</td>\n",
       "      <td>Valid</td>\n",
       "      <td>Iron, IIIAB</td>\n",
       "      <td>58200000.0</td>\n",
       "      <td>Found</td>\n",
       "      <td>01/01/1818 12:00:00 AM</td>\n",
       "    </tr>\n",
       "    <tr>\n",
       "      <th>5365</th>\n",
       "      <td>Campo del Cielo</td>\n",
       "      <td>5247</td>\n",
       "      <td>Valid</td>\n",
       "      <td>Iron, IAB-MG</td>\n",
       "      <td>50000000.0</td>\n",
       "      <td>Found</td>\n",
       "      <td>12/22/1575 12:00:00 AM</td>\n",
       "    </tr>\n",
       "    <tr>\n",
       "      <th>5370</th>\n",
       "      <td>Canyon Diablo</td>\n",
       "      <td>5257</td>\n",
       "      <td>Valid</td>\n",
       "      <td>Iron, IAB-MG</td>\n",
       "      <td>30000000.0</td>\n",
       "      <td>Found</td>\n",
       "      <td>01/01/1891 12:00:00 AM</td>\n",
       "    </tr>\n",
       "    <tr>\n",
       "      <th>3455</th>\n",
       "      <td>Armanty</td>\n",
       "      <td>2335</td>\n",
       "      <td>Valid</td>\n",
       "      <td>Iron, IIIE</td>\n",
       "      <td>28000000.0</td>\n",
       "      <td>Found</td>\n",
       "      <td>01/01/1898 12:00:00 AM</td>\n",
       "    </tr>\n",
       "    <tr>\n",
       "      <th>...</th>\n",
       "      <td>...</td>\n",
       "      <td>...</td>\n",
       "      <td>...</td>\n",
       "      <td>...</td>\n",
       "      <td>...</td>\n",
       "      <td>...</td>\n",
       "      <td>...</td>\n",
       "    </tr>\n",
       "    <tr>\n",
       "      <th>38282</th>\n",
       "      <td>Wei-hui-fu (a)</td>\n",
       "      <td>24231</td>\n",
       "      <td>Valid</td>\n",
       "      <td>Iron</td>\n",
       "      <td>NaN</td>\n",
       "      <td>Found</td>\n",
       "      <td>01/01/1931 12:00:00 AM</td>\n",
       "    </tr>\n",
       "    <tr>\n",
       "      <th>38283</th>\n",
       "      <td>Wei-hui-fu (b)</td>\n",
       "      <td>24232</td>\n",
       "      <td>Valid</td>\n",
       "      <td>Iron</td>\n",
       "      <td>NaN</td>\n",
       "      <td>Found</td>\n",
       "      <td>01/01/1931 12:00:00 AM</td>\n",
       "    </tr>\n",
       "    <tr>\n",
       "      <th>38285</th>\n",
       "      <td>Weiyuan</td>\n",
       "      <td>24233</td>\n",
       "      <td>Valid</td>\n",
       "      <td>Mesosiderite</td>\n",
       "      <td>NaN</td>\n",
       "      <td>Found</td>\n",
       "      <td>01/01/1978 12:00:00 AM</td>\n",
       "    </tr>\n",
       "    <tr>\n",
       "      <th>41472</th>\n",
       "      <td>Yamato 792768</td>\n",
       "      <td>28117</td>\n",
       "      <td>Valid</td>\n",
       "      <td>CM2</td>\n",
       "      <td>NaN</td>\n",
       "      <td>Found</td>\n",
       "      <td>01/01/1979 12:00:00 AM</td>\n",
       "    </tr>\n",
       "    <tr>\n",
       "      <th>45698</th>\n",
       "      <td>Zapata County</td>\n",
       "      <td>30393</td>\n",
       "      <td>Valid</td>\n",
       "      <td>Iron</td>\n",
       "      <td>NaN</td>\n",
       "      <td>Found</td>\n",
       "      <td>01/01/1930 12:00:00 AM</td>\n",
       "    </tr>\n",
       "  </tbody>\n",
       "</table>\n",
       "<p>45716 rows × 7 columns</p>\n",
       "</div>"
      ],
      "text/plain": [
       "                  name     id nametype      recclass        mass   fall  \\\n",
       "16392             Hoba  11890    Valid     Iron, IVB  60000000.0  Found   \n",
       "5373         Cape York   5262    Valid   Iron, IIIAB  58200000.0  Found   \n",
       "5365   Campo del Cielo   5247    Valid  Iron, IAB-MG  50000000.0  Found   \n",
       "5370     Canyon Diablo   5257    Valid  Iron, IAB-MG  30000000.0  Found   \n",
       "3455           Armanty   2335    Valid    Iron, IIIE  28000000.0  Found   \n",
       "...                ...    ...      ...           ...         ...    ...   \n",
       "38282   Wei-hui-fu (a)  24231    Valid          Iron         NaN  Found   \n",
       "38283   Wei-hui-fu (b)  24232    Valid          Iron         NaN  Found   \n",
       "38285          Weiyuan  24233    Valid  Mesosiderite         NaN  Found   \n",
       "41472    Yamato 792768  28117    Valid           CM2         NaN  Found   \n",
       "45698    Zapata County  30393    Valid          Iron         NaN  Found   \n",
       "\n",
       "                         year  \n",
       "16392  01/01/1920 12:00:00 AM  \n",
       "5373   01/01/1818 12:00:00 AM  \n",
       "5365   12/22/1575 12:00:00 AM  \n",
       "5370   01/01/1891 12:00:00 AM  \n",
       "3455   01/01/1898 12:00:00 AM  \n",
       "...                       ...  \n",
       "38282  01/01/1931 12:00:00 AM  \n",
       "38283  01/01/1931 12:00:00 AM  \n",
       "38285  01/01/1978 12:00:00 AM  \n",
       "41472  01/01/1979 12:00:00 AM  \n",
       "45698  01/01/1930 12:00:00 AM  \n",
       "\n",
       "[45716 rows x 7 columns]"
      ]
     },
     "execution_count": 590,
     "metadata": {},
     "output_type": "execute_result"
    }
   ],
   "source": [
    "# Your code here\n",
    "meteorite_landings = pd.read_csv(\"data/Meteorite_Landings.csv\").rename(columns = {\"mass (g)\":\"mass\"})\n",
    "meteorite_landings.drop([\"reclat\", \"reclong\", \"GeoLocation\"], axis = 1, inplace = True)\n",
    "meteorite_landings.sort_values(\"mass\", ascending= False, inplace=True)\n",
    "meteorite_landings"
   ]
  },
  {
   "cell_type": "markdown",
   "id": "b04126be",
   "metadata": {
    "problem_id": "ex4"
   },
   "source": [
    "<!-- @q -->\n",
    "## Problem 4\n",
    "\n",
    "Using the meteorite data from the `Meteorite_Landings.csv` file, update the `year` column to only contain the year, convert it to a numeric data type, and create a new column indicating whether the meteorite was observed falling before 1970. Set the index to the `id` column and extract all the rows with IDs between 10,036 and 10,040 (inclusive) with `loc[]`.\n",
    "\n",
    "**Hint 1**: Use `year.str.slice()` to grab a substring.\n",
    "\n",
    "**Hint 2**: Make sure to sort the index before using `loc[]` to select the range."
   ]
  },
  {
   "cell_type": "code",
   "execution_count": 591,
   "id": "815bb531",
   "metadata": {
    "part_id": "ex4-part1",
    "span": "ex4-part1.code",
    "student": true
   },
   "outputs": [
    {
     "data": {
      "text/html": [
       "<div>\n",
       "<style scoped>\n",
       "    .dataframe tbody tr th:only-of-type {\n",
       "        vertical-align: middle;\n",
       "    }\n",
       "\n",
       "    .dataframe tbody tr th {\n",
       "        vertical-align: top;\n",
       "    }\n",
       "\n",
       "    .dataframe thead th {\n",
       "        text-align: right;\n",
       "    }\n",
       "</style>\n",
       "<table border=\"1\" class=\"dataframe\">\n",
       "  <thead>\n",
       "    <tr style=\"text-align: right;\">\n",
       "      <th></th>\n",
       "      <th>name</th>\n",
       "      <th>nametype</th>\n",
       "      <th>recclass</th>\n",
       "      <th>mass</th>\n",
       "      <th>fall</th>\n",
       "      <th>year</th>\n",
       "      <th>before1970</th>\n",
       "    </tr>\n",
       "    <tr>\n",
       "      <th>id</th>\n",
       "      <th></th>\n",
       "      <th></th>\n",
       "      <th></th>\n",
       "      <th></th>\n",
       "      <th></th>\n",
       "      <th></th>\n",
       "      <th></th>\n",
       "    </tr>\n",
       "  </thead>\n",
       "  <tbody>\n",
       "    <tr>\n",
       "      <th>10036</th>\n",
       "      <td>Enigma</td>\n",
       "      <td>Valid</td>\n",
       "      <td>H4</td>\n",
       "      <td>94.0</td>\n",
       "      <td>Found</td>\n",
       "      <td>1967.0</td>\n",
       "      <td>1</td>\n",
       "    </tr>\n",
       "    <tr>\n",
       "      <th>10037</th>\n",
       "      <td>Enon</td>\n",
       "      <td>Valid</td>\n",
       "      <td>Iron, ungrouped</td>\n",
       "      <td>763.0</td>\n",
       "      <td>Found</td>\n",
       "      <td>1883.0</td>\n",
       "      <td>1</td>\n",
       "    </tr>\n",
       "    <tr>\n",
       "      <th>10038</th>\n",
       "      <td>Enshi</td>\n",
       "      <td>Valid</td>\n",
       "      <td>H5</td>\n",
       "      <td>8000.0</td>\n",
       "      <td>Fell</td>\n",
       "      <td>1974.0</td>\n",
       "      <td>0</td>\n",
       "    </tr>\n",
       "    <tr>\n",
       "      <th>10039</th>\n",
       "      <td>Ensisheim</td>\n",
       "      <td>Valid</td>\n",
       "      <td>LL6</td>\n",
       "      <td>127000.0</td>\n",
       "      <td>Fell</td>\n",
       "      <td>1491.0</td>\n",
       "      <td>1</td>\n",
       "    </tr>\n",
       "    <tr>\n",
       "      <th>10041</th>\n",
       "      <td>Épinal</td>\n",
       "      <td>Valid</td>\n",
       "      <td>H5</td>\n",
       "      <td>277.0</td>\n",
       "      <td>Fell</td>\n",
       "      <td>1822.0</td>\n",
       "      <td>1</td>\n",
       "    </tr>\n",
       "  </tbody>\n",
       "</table>\n",
       "</div>"
      ],
      "text/plain": [
       "            name nametype         recclass      mass   fall    year  \\\n",
       "id                                                                    \n",
       "10036     Enigma    Valid               H4      94.0  Found  1967.0   \n",
       "10037       Enon    Valid  Iron, ungrouped     763.0  Found  1883.0   \n",
       "10038      Enshi    Valid               H5    8000.0   Fell  1974.0   \n",
       "10039  Ensisheim    Valid              LL6  127000.0   Fell  1491.0   \n",
       "10041     Épinal    Valid               H5     277.0   Fell  1822.0   \n",
       "\n",
       "       before1970  \n",
       "id                 \n",
       "10036           1  \n",
       "10037           1  \n",
       "10038           0  \n",
       "10039           1  \n",
       "10041           1  "
      ]
     },
     "execution_count": 591,
     "metadata": {},
     "output_type": "execute_result"
    }
   ],
   "source": [
    "# Your code here\n",
    "import numpy as np\n",
    "\n",
    "meteorite_landings.year = meteorite_landings.year.str.slice(start = 6, stop = 10)\n",
    "meteorite_landings.year = pd.to_numeric(meteorite_landings.year)\n",
    "meteorite_landings[\"before1970\"] = np.where(meteorite_landings[\"year\"]< 1970, 1, 0)\n",
    "meteorite_landings.set_index(\"id\", inplace= True)\n",
    "meteorite_landings.sort_values(\"id\", inplace = True)\n",
    "\n",
    "# there is no id equal to 10040\n",
    "meteorite_landings.loc[10036:10041]\n"
   ]
  },
  {
   "cell_type": "markdown",
   "id": "b08b3aeb",
   "metadata": {
    "part_id": "ex4-part2"
   },
   "source": [
    "**BONUS**: There's a data entry error in the `year` column. Can you find it?"
   ]
  },
  {
   "cell_type": "code",
   "execution_count": 592,
   "id": "2836a110",
   "metadata": {
    "additional_cells_expected": true,
    "part_id": "ex4-part2",
    "span": "ex4-part2.code",
    "student": true
   },
   "outputs": [
    {
     "data": {
      "text/html": [
       "<div>\n",
       "<style scoped>\n",
       "    .dataframe tbody tr th:only-of-type {\n",
       "        vertical-align: middle;\n",
       "    }\n",
       "\n",
       "    .dataframe tbody tr th {\n",
       "        vertical-align: top;\n",
       "    }\n",
       "\n",
       "    .dataframe thead th {\n",
       "        text-align: right;\n",
       "    }\n",
       "</style>\n",
       "<table border=\"1\" class=\"dataframe\">\n",
       "  <thead>\n",
       "    <tr style=\"text-align: right;\">\n",
       "      <th></th>\n",
       "      <th>name</th>\n",
       "      <th>nametype</th>\n",
       "      <th>recclass</th>\n",
       "      <th>mass</th>\n",
       "      <th>fall</th>\n",
       "      <th>year</th>\n",
       "      <th>before1970</th>\n",
       "    </tr>\n",
       "    <tr>\n",
       "      <th>id</th>\n",
       "      <th></th>\n",
       "      <th></th>\n",
       "      <th></th>\n",
       "      <th></th>\n",
       "      <th></th>\n",
       "      <th></th>\n",
       "      <th></th>\n",
       "    </tr>\n",
       "  </thead>\n",
       "  <tbody>\n",
       "    <tr>\n",
       "      <th>2344</th>\n",
       "      <td>Asarco Mexicana</td>\n",
       "      <td>Valid</td>\n",
       "      <td>Iron, IIIAB</td>\n",
       "      <td>NaN</td>\n",
       "      <td>Found</td>\n",
       "      <td>NaN</td>\n",
       "      <td>0</td>\n",
       "    </tr>\n",
       "    <tr>\n",
       "      <th>4902</th>\n",
       "      <td>Aus</td>\n",
       "      <td>Valid</td>\n",
       "      <td>L</td>\n",
       "      <td>30.2</td>\n",
       "      <td>Found</td>\n",
       "      <td>NaN</td>\n",
       "      <td>0</td>\n",
       "    </tr>\n",
       "    <tr>\n",
       "      <th>5012</th>\n",
       "      <td>Benares (b)</td>\n",
       "      <td>Valid</td>\n",
       "      <td>Iron</td>\n",
       "      <td>NaN</td>\n",
       "      <td>Found</td>\n",
       "      <td>NaN</td>\n",
       "      <td>0</td>\n",
       "    </tr>\n",
       "    <tr>\n",
       "      <th>5191</th>\n",
       "      <td>Cacilandia</td>\n",
       "      <td>Valid</td>\n",
       "      <td>H6</td>\n",
       "      <td>NaN</td>\n",
       "      <td>Found</td>\n",
       "      <td>NaN</td>\n",
       "      <td>0</td>\n",
       "    </tr>\n",
       "    <tr>\n",
       "      <th>5199</th>\n",
       "      <td>California</td>\n",
       "      <td>Valid</td>\n",
       "      <td>Iron, IAB-sLL</td>\n",
       "      <td>NaN</td>\n",
       "      <td>Found</td>\n",
       "      <td>NaN</td>\n",
       "      <td>0</td>\n",
       "    </tr>\n",
       "    <tr>\n",
       "      <th>...</th>\n",
       "      <td>...</td>\n",
       "      <td>...</td>\n",
       "      <td>...</td>\n",
       "      <td>...</td>\n",
       "      <td>...</td>\n",
       "      <td>...</td>\n",
       "      <td>...</td>\n",
       "    </tr>\n",
       "    <tr>\n",
       "      <th>56528</th>\n",
       "      <td>Jiddat al Harasis 796</td>\n",
       "      <td>Valid</td>\n",
       "      <td>L5</td>\n",
       "      <td>22.8</td>\n",
       "      <td>Found</td>\n",
       "      <td>NaN</td>\n",
       "      <td>0</td>\n",
       "    </tr>\n",
       "    <tr>\n",
       "      <th>56529</th>\n",
       "      <td>Jiddat Arkad 003</td>\n",
       "      <td>Valid</td>\n",
       "      <td>L5</td>\n",
       "      <td>148.0</td>\n",
       "      <td>Found</td>\n",
       "      <td>NaN</td>\n",
       "      <td>0</td>\n",
       "    </tr>\n",
       "    <tr>\n",
       "      <th>56530</th>\n",
       "      <td>Jiddat al Harasis 797</td>\n",
       "      <td>Valid</td>\n",
       "      <td>L5</td>\n",
       "      <td>249.0</td>\n",
       "      <td>Found</td>\n",
       "      <td>NaN</td>\n",
       "      <td>0</td>\n",
       "    </tr>\n",
       "    <tr>\n",
       "      <th>56566</th>\n",
       "      <td>Elizabeth</td>\n",
       "      <td>Valid</td>\n",
       "      <td>Iron, IAB-ung</td>\n",
       "      <td>732.0</td>\n",
       "      <td>Found</td>\n",
       "      <td>NaN</td>\n",
       "      <td>0</td>\n",
       "    </tr>\n",
       "    <tr>\n",
       "      <th>56567</th>\n",
       "      <td>Karavannoe</td>\n",
       "      <td>Valid</td>\n",
       "      <td>Pallasite, PES</td>\n",
       "      <td>132000.0</td>\n",
       "      <td>Found</td>\n",
       "      <td>NaN</td>\n",
       "      <td>0</td>\n",
       "    </tr>\n",
       "  </tbody>\n",
       "</table>\n",
       "<p>291 rows × 7 columns</p>\n",
       "</div>"
      ],
      "text/plain": [
       "                        name nametype        recclass      mass   fall  year  \\\n",
       "id                                                                             \n",
       "2344         Asarco Mexicana    Valid     Iron, IIIAB       NaN  Found   NaN   \n",
       "4902                     Aus    Valid               L      30.2  Found   NaN   \n",
       "5012             Benares (b)    Valid            Iron       NaN  Found   NaN   \n",
       "5191              Cacilandia    Valid              H6       NaN  Found   NaN   \n",
       "5199              California    Valid   Iron, IAB-sLL       NaN  Found   NaN   \n",
       "...                      ...      ...             ...       ...    ...   ...   \n",
       "56528  Jiddat al Harasis 796    Valid              L5      22.8  Found   NaN   \n",
       "56529       Jiddat Arkad 003    Valid              L5     148.0  Found   NaN   \n",
       "56530  Jiddat al Harasis 797    Valid              L5     249.0  Found   NaN   \n",
       "56566              Elizabeth    Valid   Iron, IAB-ung     732.0  Found   NaN   \n",
       "56567             Karavannoe    Valid  Pallasite, PES  132000.0  Found   NaN   \n",
       "\n",
       "       before1970  \n",
       "id                 \n",
       "2344            0  \n",
       "4902            0  \n",
       "5012            0  \n",
       "5191            0  \n",
       "5199            0  \n",
       "...           ...  \n",
       "56528           0  \n",
       "56529           0  \n",
       "56530           0  \n",
       "56566           0  \n",
       "56567           0  \n",
       "\n",
       "[291 rows x 7 columns]"
      ]
     },
     "execution_count": 592,
     "metadata": {},
     "output_type": "execute_result"
    }
   ],
   "source": [
    "# Your code here\n",
    "meteorite_landings[meteorite_landings.year.isna()]"
   ]
  },
  {
   "cell_type": "markdown",
   "id": "b0ab2e51-a49d-486e-ad09-aaa39f0d4358",
   "metadata": {
    "slideshow": {
     "slide_type": "fragment"
    },
    "tags": []
   },
   "source": [
    "There's a meteorite that was reportedly found in the future:"
   ]
  },
  {
   "cell_type": "code",
   "execution_count": 593,
   "id": "a58fc7c5",
   "metadata": {
    "additional_cells_expected": true,
    "part_id": "ex4-part2",
    "span": "ex4-part2.code",
    "student": true
   },
   "outputs": [
    {
     "data": {
      "text/html": [
       "<div>\n",
       "<style scoped>\n",
       "    .dataframe tbody tr th:only-of-type {\n",
       "        vertical-align: middle;\n",
       "    }\n",
       "\n",
       "    .dataframe tbody tr th {\n",
       "        vertical-align: top;\n",
       "    }\n",
       "\n",
       "    .dataframe thead th {\n",
       "        text-align: right;\n",
       "    }\n",
       "</style>\n",
       "<table border=\"1\" class=\"dataframe\">\n",
       "  <thead>\n",
       "    <tr style=\"text-align: right;\">\n",
       "      <th></th>\n",
       "      <th>name</th>\n",
       "      <th>nametype</th>\n",
       "      <th>recclass</th>\n",
       "      <th>mass</th>\n",
       "      <th>fall</th>\n",
       "      <th>year</th>\n",
       "      <th>before1970</th>\n",
       "    </tr>\n",
       "    <tr>\n",
       "      <th>id</th>\n",
       "      <th></th>\n",
       "      <th></th>\n",
       "      <th></th>\n",
       "      <th></th>\n",
       "      <th></th>\n",
       "      <th></th>\n",
       "      <th></th>\n",
       "    </tr>\n",
       "  </thead>\n",
       "  <tbody>\n",
       "    <tr>\n",
       "      <th>57150</th>\n",
       "      <td>Northwest Africa 7701</td>\n",
       "      <td>Valid</td>\n",
       "      <td>CK6</td>\n",
       "      <td>55.0</td>\n",
       "      <td>Found</td>\n",
       "      <td>2101.0</td>\n",
       "      <td>0</td>\n",
       "    </tr>\n",
       "  </tbody>\n",
       "</table>\n",
       "</div>"
      ],
      "text/plain": [
       "                        name nametype recclass  mass   fall    year  \\\n",
       "id                                                                    \n",
       "57150  Northwest Africa 7701    Valid      CK6  55.0  Found  2101.0   \n",
       "\n",
       "       before1970  \n",
       "id                 \n",
       "57150           0  "
      ]
     },
     "execution_count": 593,
     "metadata": {},
     "output_type": "execute_result"
    }
   ],
   "source": [
    "# Your code here\n",
    "# this says the year was 2101\n",
    "meteorite_landings.sort_values(\"year\", ascending=False).head(1)"
   ]
  },
  {
   "cell_type": "markdown",
   "id": "10b3e913-e6d0-4b61-928e-da3eca59b08d",
   "metadata": {},
   "source": [
    "_This meteorite actually was found in 2010 (more information [here](https://www.lpi.usra.edu/meteor/metbull.php?code=57150))._"
   ]
  },
  {
   "cell_type": "markdown",
   "id": "54b9ba34",
   "metadata": {
    "problem_id": "ex5"
   },
   "source": [
    "<!-- @q -->\n",
    "## Problem 5\n",
    "\n",
    "Using the taxi trip data in the `2019_Yellow_Taxi_Trip_Data.csv` file, resample the data to an hourly frequency based on the dropoff time. Calculate the total `trip_distance`, `fare_amount`, `tolls_amount`, and `tip_amount`, then find the 5 hours with the most tips."
   ]
  },
  {
   "cell_type": "code",
   "execution_count": 594,
   "id": "bb9b3d0a",
   "metadata": {
    "part_id": "ex5-part1",
    "span": "ex5-part1.code",
    "student": true
   },
   "outputs": [
    {
     "name": "stderr",
     "output_type": "stream",
     "text": [
      "/tmp/ipykernel_2516/298085283.py:6: FutureWarning: 'H' is deprecated and will be removed in a future version, please use 'h' instead.\n",
      "  taxi_data_by_hour = taxi_data.resample(\"H\", on=\"tpep_dropoff_datetime\")[[\"trip_distance\", \"fare_amount\", \"tolls_amount\", \"tip_amount\"]].sum().reset_index()\n"
     ]
    },
    {
     "data": {
      "text/plain": [
       "9    2019-10-23 16:00:00\n",
       "10   2019-10-23 17:00:00\n",
       "11   2019-10-23 18:00:00\n",
       "8    2019-10-23 15:00:00\n",
       "12   2019-10-23 19:00:00\n",
       "Name: tpep_dropoff_datetime, dtype: datetime64[ns]"
      ]
     },
     "execution_count": 594,
     "metadata": {},
     "output_type": "execute_result"
    }
   ],
   "source": [
    "# Your code here\n",
    "# convert to datetime column\n",
    "taxi_data[\"tpep_dropoff_datetime\"] = pd.to_datetime(taxi_data[\"tpep_dropoff_datetime\"])\n",
    "\n",
    "# resample by hour and calculate the sum of the 4 columns\n",
    "taxi_data_by_hour = taxi_data.resample(\"H\", on=\"tpep_dropoff_datetime\")[[\"trip_distance\", \"fare_amount\", \"tolls_amount\", \"tip_amount\"]].sum().reset_index()\n",
    "\n",
    "# sort by tip amount and keep the top 5 and only print out the 5 hours\n",
    "taxi_data_by_hour.sort_values(\"tip_amount\", ascending=False).head(5)[\"tpep_dropoff_datetime\"]"
   ]
  },
  {
   "cell_type": "markdown",
   "id": "7a62e834",
   "metadata": {
    "problem_id": "ex6"
   },
   "source": [
    "<!-- @q -->\n",
    "## Problem 6\n",
    "\n",
    "Using the TSA traveler throughput data in the `tsa_melted_holiday_travel.csv` file, create box plots for traveler throughput for each year in the data. Hint: Pass `kind='box'` into the `plot()` method to generate box plots."
   ]
  },
  {
   "cell_type": "code",
   "execution_count": 595,
   "id": "0fc05a66",
   "metadata": {
    "part_id": "ex6-part1",
    "span": "ex6-part1.code",
    "student": true
   },
   "outputs": [
    {
     "data": {
      "image/png": "[encoded data removed]",
      "text/plain": [
       "<Figure size 640x480 with 1 Axes>"
      ]
     },
     "metadata": {},
     "output_type": "display_data"
    }
   ],
   "source": [
    "# Your code here\n",
    "import matplotlib.pyplot as plt\n",
    "\n",
    "tsa = pd.read_csv(\"data/tsa_melted_holiday_travel.csv\")\n",
    "\n",
    "tsa.boxplot(column = \"travelers\", by = \"year\")\n",
    "plt.show()"
   ]
  },
  {
   "cell_type": "markdown",
   "id": "9efbc536",
   "metadata": {
    "problem_id": "ex7"
   },
   "source": [
    "<!-- @q -->\n",
    "## Problem 7\n",
    "Using the TSA traveler throughput data in the `tsa_melted_holiday_travel.csv` file, create a heatmap that shows the 2019 TSA median traveler throughput by day of week and month."
   ]
  },
  {
   "cell_type": "code",
   "execution_count": 596,
   "id": "e4a3a1fd",
   "metadata": {
    "part_id": "ex7-part1",
    "span": "ex7-part1.code",
    "student": true
   },
   "outputs": [
    {
     "data": {
      "image/png": "[encoded data removed]",
      "text/plain": [
       "<Figure size 640x480 with 2 Axes>"
      ]
     },
     "metadata": {},
     "output_type": "display_data"
    }
   ],
   "source": [
    "# Your code here\n",
    "import seaborn as sns\n",
    "import calendar\n",
    "\n",
    "tsa_melted_holiday_travel = pd.read_csv(\n",
    "    './data/tsa_melted_holiday_travel.csv',\n",
    "    parse_dates=True, index_col='date'\n",
    ")\n",
    "\n",
    "data = tsa_melted_holiday_travel['2019':'2021-04']\\\n",
    "    .assign(month=lambda x: x.index.month,\n",
    "    day_of_week=lambda x: x.index.day_name(),   # e.g., Monday, Tuesday\n",
    "    year=lambda x: x.index.year)\\\n",
    "    .pivot_table(index=\"day_of_week\",\n",
    "    columns=\"month\",\n",
    "    values=\"travelers\",\n",
    "    aggfunc=\"median\")\n",
    "\n",
    "data\n",
    "\n",
    "ax = sns.heatmap(data=data / 1e6, cmap='Greens', annot=True, fmt='.1f')\n",
    "_ = ax.set_xticklabels(calendar.month_abbr[1:], rotation=0)\n",
    "_ = ax.set_title('Total TSA Traveler Throughput (in millions)')\n"
   ]
  }
 ],
 "metadata": {
  "kernelspec": {
   "display_name": "Python 3",
   "language": "python",
   "name": "python3"
  },
  "language_info": {
   "codemirror_mode": {
    "name": "ipython",
    "version": 3
   },
   "file_extension": ".py",
   "mimetype": "text/x-python",
   "name": "python",
   "nbconvert_exporter": "python",
   "pygments_lexer": "ipython3",
   "version": "3.12.1"
  }
 },
 "nbformat": 4,
 "nbformat_minor": 5
}
